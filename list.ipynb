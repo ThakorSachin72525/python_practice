{
 "cells": [
  {
   "cell_type": "code",
   "execution_count": 44,
   "id": "8b8c267a",
   "metadata": {},
   "outputs": [],
   "source": [
    "fruits = ['apple', 'banana', 'cherry']\n",
    "\n",
    "a = []\n"
   ]
  },
  {
   "cell_type": "code",
   "execution_count": 9,
   "id": "be6080c5",
   "metadata": {},
   "outputs": [
    {
     "name": "stdout",
     "output_type": "stream",
     "text": [
      "['apple', 'mango', 'mango', 'mango', 'banana', 'cherry', 'orange', 'orange']\n",
      "['orange', 'orange']\n"
     ]
    }
   ],
   "source": [
    "fruits.append('orange')\n",
    "print(fruits)\n",
    "a.append('orange')\n",
    "print(a)\n"
   ]
  },
  {
   "cell_type": "code",
   "execution_count": 21,
   "id": "1f0bdb9b",
   "metadata": {},
   "outputs": [
    {
     "name": "stdout",
     "output_type": "stream",
     "text": [
      "['apple', 'mango', 'cherry', 'grape', 'pineapple', 'grape', 'pineapple']\n"
     ]
    }
   ],
   "source": [
    "fruits.insert(1, 'mango')  # Insert at index 1\n",
    "print(fruits)\n",
    "# ['apple', 'mango', 'banana', 'cherry', 'orange']\n"
   ]
  },
  {
   "cell_type": "code",
   "execution_count": 47,
   "id": "2b4391ee",
   "metadata": {},
   "outputs": [
    {
     "name": "stdout",
     "output_type": "stream",
     "text": [
      "['apple', 'banana', 'cherry', 'grape', 'pineapple']\n"
     ]
    }
   ],
   "source": [
    "more_fruits = ['grape', 'pineapple']\n",
    "fruits.extend(more_fruits)\n",
    "print(fruits)\n",
    "# ['apple', 'mango', 'banana', 'cherry', 'orange', 'grape', 'pineapple']\n"
   ]
  },
  {
   "cell_type": "code",
   "execution_count": 48,
   "id": "de517138",
   "metadata": {},
   "outputs": [
    {
     "name": "stdout",
     "output_type": "stream",
     "text": [
      "['apple', 'banana', 'cherry', 'grape']\n"
     ]
    }
   ],
   "source": [
    "fruits.remove('pineapple')\n",
    "print(fruits)\n",
    "# Removes the first occurrence of 'banana'\n"
   ]
  },
  {
   "cell_type": "code",
   "execution_count": 49,
   "id": "2ead29e5",
   "metadata": {},
   "outputs": [
    {
     "name": "stdout",
     "output_type": "stream",
     "text": [
      "apple\n",
      "banana\n",
      "cherry\n",
      "grape\n"
     ]
    }
   ],
   "source": [
    "for fruit in fruits:\n",
    "    print(fruit)\n"
   ]
  }
 ],
 "metadata": {
  "kernelspec": {
   "display_name": ".venv (3.12.10)",
   "language": "python",
   "name": "python3"
  },
  "language_info": {
   "codemirror_mode": {
    "name": "ipython",
    "version": 3
   },
   "file_extension": ".py",
   "mimetype": "text/x-python",
   "name": "python",
   "nbconvert_exporter": "python",
   "pygments_lexer": "ipython3",
   "version": "3.12.10"
  }
 },
 "nbformat": 4,
 "nbformat_minor": 5
}
