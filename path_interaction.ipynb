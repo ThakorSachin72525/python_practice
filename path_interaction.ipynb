{
 "cells": [
  {
   "cell_type": "code",
   "execution_count": 53,
   "id": "7bda7613",
   "metadata": {},
   "outputs": [],
   "source": [
    "import os\n",
    "from pathlib import Path\n",
    "\n",
    "p = []\n",
    "pyCount = 0"
   ]
  },
  {
   "cell_type": "code",
   "execution_count": 54,
   "id": "9add514e",
   "metadata": {},
   "outputs": [
    {
     "name": "stdout",
     "output_type": "stream",
     "text": [
      "/home/Friday/Downloads/Python/python_practice/python_practice\n",
      "/home/Friday/Downloads/Python/python_practice/python_practice\n"
     ]
    }
   ],
   "source": [
    "print(os.getcwd())\n",
    "print(Path.cwd())\n",
    "p.append(os.getcwd())"
   ]
  },
  {
   "cell_type": "code",
   "execution_count": 55,
   "id": "4492bbb5",
   "metadata": {},
   "outputs": [
    {
     "name": "stdout",
     "output_type": "stream",
     "text": [
      "/home/Friday/Downloads/Python/python_practice/python_practice/.git\n",
      "/home/Friday/Downloads/Python/python_practice/python_practice/.gitignore\n",
      "/home/Friday/Downloads/Python/python_practice/python_practice/README.md\n",
      "/home/Friday/Downloads/Python/python_practice/python_practice/main.py\n",
      "/home/Friday/Downloads/Python/python_practice/python_practice/list.ipynb\n",
      "/home/Friday/Downloads/Python/python_practice/python_practice/.venv\n",
      "/home/Friday/Downloads/Python/python_practice/python_practice/path_interaction.ipynb\n"
     ]
    }
   ],
   "source": [
    "folder = Path.cwd()\n",
    "for item in folder.iterdir():\n",
    "    print(item)\n"
   ]
  },
  {
   "cell_type": "code",
   "execution_count": 56,
   "id": "76f0f660",
   "metadata": {},
   "outputs": [],
   "source": [
    "os.mkdir(\"test\")"
   ]
  },
  {
   "cell_type": "code",
   "execution_count": 57,
   "id": "01e2a165",
   "metadata": {},
   "outputs": [],
   "source": [
    "Path(\"new_folder\").mkdir(exist_ok=True)  # avoid error if already exists\n"
   ]
  },
  {
   "cell_type": "code",
   "execution_count": 58,
   "id": "25a129ea",
   "metadata": {},
   "outputs": [
    {
     "name": "stdout",
     "output_type": "stream",
     "text": [
      "True\n",
      "True\n"
     ]
    }
   ],
   "source": [
    "print(os.path.exists(\"new_folder\"))        # True or False\n",
    "print(Path(\"test\").exists())         # True or False\n"
   ]
  },
  {
   "cell_type": "code",
   "execution_count": 59,
   "id": "6ea641c4",
   "metadata": {},
   "outputs": [],
   "source": [
    "os.rmdir(\"new_folder\")\n",
    "Path(\"test\").rmdir()"
   ]
  },
  {
   "cell_type": "code",
   "execution_count": 60,
   "id": "eb5e2e9e",
   "metadata": {},
   "outputs": [
    {
     "name": "stdout",
     "output_type": "stream",
     "text": [
      "/home/Friday/Downloads/Python/python_practice/python_practice/list.ipynb\n",
      "/home/Friday/Downloads/Python/python_practice/python_practice/path_interaction.ipynb\n"
     ]
    }
   ],
   "source": [
    "for P in p:\n",
    "    for root, dirs, files in os.walk(P):\n",
    "        for file in files:\n",
    "            if file.endswith(\".ipynb\"):\n",
    "                full_path = os.path.join(root, file)\n",
    "                print(full_path)\n"
   ]
  },
  {
   "cell_type": "code",
   "execution_count": 62,
   "id": "14de3637",
   "metadata": {},
   "outputs": [
    {
     "name": "stdout",
     "output_type": "stream",
     "text": [
      "1881\n"
     ]
    }
   ],
   "source": [
    "for P in p:\n",
    "    for root, dir, files in os.walk(P):\n",
    "        for file in files:\n",
    "            if file.endswith(\"py\"):\n",
    "                pyCount += 1\n",
    "\n",
    "print(pyCount)"
   ]
  }
 ],
 "metadata": {
  "kernelspec": {
   "display_name": ".venv (3.12.10)",
   "language": "python",
   "name": "python3"
  },
  "language_info": {
   "codemirror_mode": {
    "name": "ipython",
    "version": 3
   },
   "file_extension": ".py",
   "mimetype": "text/x-python",
   "name": "python",
   "nbconvert_exporter": "python",
   "pygments_lexer": "ipython3",
   "version": "3.12.10"
  }
 },
 "nbformat": 4,
 "nbformat_minor": 5
}
